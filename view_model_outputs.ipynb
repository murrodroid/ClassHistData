{
 "cells": [
  {
   "cell_type": "code",
   "execution_count": 1,
   "id": "2ea7e7f3",
   "metadata": {},
   "outputs": [],
   "source": [
    "from transformer.modules.inference import ModelPredictor\n",
    "from transformer.modules.data_import import import_data"
   ]
  },
  {
   "cell_type": "code",
   "execution_count": null,
   "id": "64dde4dd",
   "metadata": {},
   "outputs": [],
   "source": [
    "model_path = '../runs/Bio_ClinicalBERT_20250501_220305'\n",
    "predictor = ModelPredictor(model_path)"
   ]
  },
  {
   "cell_type": "code",
   "execution_count": null,
   "id": "8a2e3827",
   "metadata": {},
   "outputs": [],
   "source": []
  }
 ],
 "metadata": {
  "kernelspec": {
   "display_name": "torchX",
   "language": "python",
   "name": "python3"
  },
  "language_info": {
   "codemirror_mode": {
    "name": "ipython",
    "version": 3
   },
   "file_extension": ".py",
   "mimetype": "text/x-python",
   "name": "python",
   "nbconvert_exporter": "python",
   "pygments_lexer": "ipython3",
   "version": "3.10.14"
  }
 },
 "nbformat": 4,
 "nbformat_minor": 5
}
